{
 "cells": [
  {
   "cell_type": "code",
   "execution_count": 1,
   "id": "d0b5ea58-1043-4fbb-a565-3943517f37be",
   "metadata": {},
   "outputs": [],
   "source": [
    "import pandas as pd\n",
    "\n",
    "# Get data\n",
    "data = pd.read_csv('../melb_data.csv')\n",
    "data = data.dropna(axis=0)\n",
    "\n",
    "# Choose target and features\n",
    "y = data.Price\n",
    "melbourne_features = ['Rooms', 'Bathroom', 'Landsize', 'BuildingArea', 'YearBuilt', 'Lattitude', 'Longtitude']\n",
    "X = data[melbourne_features]\n",
    "\n",
    "from sklearn.model_selection import train_test_split\n",
    "X_train, X_val, y_train, y_val = train_test_split(X, y, random_state=0)"
   ]
  },
  {
   "cell_type": "code",
   "execution_count": 2,
   "id": "a27513c8-cf33-48b4-91c9-38a39951ba70",
   "metadata": {},
   "outputs": [],
   "source": [
    "from sklearn.metrics import mean_absolute_error\n",
    "from sklearn.tree import DecisionTreeRegressor\n",
    "\n",
    "def get_mae(max_leaf_nodes, X_train, X_val, y_train, y_val):\n",
    "    model = DecisionTreeRegressor(max_leaf_nodes=max_leaf_nodes, random_state=0)\n",
    "    model.fit(X_train, y_train)\n",
    "    y_pred = model.predict(X_val)\n",
    "    mae = mean_absolute_error(y_val, y_pred)\n",
    "    return (mae)\n"
   ]
  },
  {
   "cell_type": "code",
   "execution_count": 11,
   "id": "2542de42-6b50-47fa-8dfd-098887248492",
   "metadata": {},
   "outputs": [
    {
     "name": "stdout",
     "output_type": "stream",
     "text": [
      "Max leaf nodes: 5\t\t\tMean Absolute Error:  347380.34\n",
      "Max leaf nodes: 50\t\t\tMean Absolute Error:  258171.21\n",
      "Max leaf nodes: 500\t\t\tMean Absolute Error:  243495.96\n",
      "Max leaf nodes: 5000\t\t\tMean Absolute Error:  255575.13\n"
     ]
    }
   ],
   "source": [
    "# Compare MAE with different values of max_leaf_nodes\n",
    "for max_leaf_nodes in [5, 50, 500, 5000]:\n",
    "    mae = get_mae(max_leaf_nodes, X_train, X_val, y_train, y_val)\n",
    "    print(f\"Max leaf nodes: {max_leaf_nodes}\\t\\t\\tMean Absolute Error:  {mae:.2f}\")\n"
   ]
  },
  {
   "cell_type": "code",
   "execution_count": null,
   "id": "c8d7cfbd-9ed7-4b00-8e15-5afd44af6b4f",
   "metadata": {},
   "outputs": [],
   "source": []
  }
 ],
 "metadata": {
  "kernelspec": {
   "display_name": "Python 3 (ipykernel)",
   "language": "python",
   "name": "python3"
  },
  "language_info": {
   "codemirror_mode": {
    "name": "ipython",
    "version": 3
   },
   "file_extension": ".py",
   "mimetype": "text/x-python",
   "name": "python",
   "nbconvert_exporter": "python",
   "pygments_lexer": "ipython3",
   "version": "3.12.3"
  }
 },
 "nbformat": 4,
 "nbformat_minor": 5
}
